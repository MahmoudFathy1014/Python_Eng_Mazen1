{
 "cells": [
  {
   "cell_type": "markdown",
   "id": "7ec1ea01-409f-41c8-b31c-7ff68cdf4f5e",
   "metadata": {},
   "source": [
    "### 1. Write a Python program that defines a variable called 'name' and prints it using the print() function."
   ]
  },
  {
   "cell_type": "code",
   "execution_count": 15,
   "id": "7c50bc43-6acb-435b-bbe5-f437244ff66e",
   "metadata": {},
   "outputs": [
    {
     "name": "stdout",
     "output_type": "stream",
     "text": [
      "Mazen\n"
     ]
    }
   ],
   "source": [
    "name = 'Mazen'\n",
    "print(name)"
   ]
  },
  {
   "cell_type": "markdown",
   "id": "2e4c5f67-c499-445d-88d5-a10b0254a7fb",
   "metadata": {},
   "source": [
    "### 2. Create two variables: one integer and one string. Print both in the same sentence."
   ]
  },
  {
   "cell_type": "code",
   "execution_count": 11,
   "id": "e3a123b2-63f7-4e02-a7c7-1ca35e0f58a8",
   "metadata": {},
   "outputs": [
    {
     "name": "stdout",
     "output_type": "stream",
     "text": [
      "Mazen is 35 years old.\n"
     ]
    }
   ],
   "source": [
    "name = 'Mazen'\n",
    "age = 35 \n",
    "#print (name, age)\n",
    "print (name, 'is', age, 'years old.')"
   ]
  },
  {
   "cell_type": "markdown",
   "id": "e74d3d3b-450a-426b-90b1-9e0db14f00e6",
   "metadata": {},
   "source": [
    "### 3. Use input() to ask the user: 'Enter your age:' and print 'You are X years old' where X is the entered value."
   ]
  },
  {
   "cell_type": "code",
   "execution_count": 17,
   "id": "c36b7ecc-8fe7-4cf5-93e5-2ceea8bb0243",
   "metadata": {},
   "outputs": [
    {
     "name": "stdin",
     "output_type": "stream",
     "text": [
      "Enter your age:  25\n"
     ]
    },
    {
     "name": "stdout",
     "output_type": "stream",
     "text": [
      "You are 25  years old.\n"
     ]
    }
   ],
   "source": [
    "age = input('Enter your age: ')\n",
    "print('You are', age, ' years old.')"
   ]
  },
  {
   "cell_type": "markdown",
   "id": "bf822828-1338-49e1-b6db-c50952ad971d",
   "metadata": {},
   "source": [
    "### 4. Demonstrate how to use print() to show the result of a logical operation: Check if 10 > 5 and print the result."
   ]
  },
  {
   "cell_type": "code",
   "execution_count": 16,
   "id": "9c72a7f7-9871-4d9e-95b6-c0c4355769d6",
   "metadata": {},
   "outputs": [
    {
     "name": "stdout",
     "output_type": "stream",
     "text": [
      "True\n"
     ]
    }
   ],
   "source": [
    "print(10 > 5)"
   ]
  },
  {
   "cell_type": "markdown",
   "id": "d1819e29-2835-4402-a916-5a1cb15ac76a",
   "metadata": {},
   "source": [
    "### 5. Ask the user to 'Enter your city:' and then print it in uppercase letters using upper()."
   ]
  },
  {
   "cell_type": "code",
   "execution_count": 18,
   "id": "367dfc98-7611-4e28-ae1a-06c61f7a6180",
   "metadata": {},
   "outputs": [
    {
     "name": "stdin",
     "output_type": "stream",
     "text": [
      "Enter your city:  cairo\n"
     ]
    },
    {
     "name": "stdout",
     "output_type": "stream",
     "text": [
      "CAIRO\n"
     ]
    }
   ],
   "source": [
    "city = input('Enter your city: ')\n",
    "print(city.upper())"
   ]
  },
  {
   "cell_type": "markdown",
   "id": "033670ec-1f15-471c-8236-cc234d8efaf0",
   "metadata": {},
   "source": [
    "### 6. Write a program that asks for a user's name, then prints it with the first letter capitalized using capitalize()."
   ]
  },
  {
   "cell_type": "code",
   "execution_count": 25,
   "id": "bfa7612c-d43f-4903-ac48-a593ccaee4f0",
   "metadata": {},
   "outputs": [
    {
     "name": "stdin",
     "output_type": "stream",
     "text": [
      "Enter your name:  mazen\n"
     ]
    },
    {
     "name": "stdout",
     "output_type": "stream",
     "text": [
      "Mazen\n"
     ]
    }
   ],
   "source": [
    "name = input('Enter your name: ')\n",
    "print(name.capitalize())"
   ]
  },
  {
   "cell_type": "markdown",
   "id": "60f583ca-7a82-4654-b0cb-d0024c7acc39",
   "metadata": {},
   "source": [
    "### 7. Ask the user to 'Enter a sentence with extra spaces:' and print it without spaces at the start and end using strip()."
   ]
  },
  {
   "cell_type": "code",
   "execution_count": 27,
   "id": "a2eaf053-c5f5-4451-a0d4-28cd56c2e357",
   "metadata": {},
   "outputs": [
    {
     "name": "stdin",
     "output_type": "stream",
     "text": [
      "Enter your description:               I love Data Analysis ♥\n"
     ]
    },
    {
     "name": "stdout",
     "output_type": "stream",
     "text": [
      "I love Data Analysis ♥\n"
     ]
    }
   ],
   "source": [
    "description = input('Enter your description: ')\n",
    "print(description.strip())"
   ]
  },
  {
   "cell_type": "markdown",
   "id": "8cd27f3e-ef23-4228-9662-7498d112e060",
   "metadata": {},
   "source": [
    "### 8. Ask for two numbers from the user, then print whether the first is greater than the second using logical operators."
   ]
  },
  {
   "cell_type": "code",
   "execution_count": 28,
   "id": "19ce7005-e8fd-4bb5-97c8-9e514b94c89f",
   "metadata": {},
   "outputs": [
    {
     "name": "stdin",
     "output_type": "stream",
     "text": [
      "Enter your num1:  30\n",
      "Enter your num2:  15\n"
     ]
    },
    {
     "name": "stdout",
     "output_type": "stream",
     "text": [
      "True\n"
     ]
    }
   ],
   "source": [
    "num1 = int(input('Enter your num1: ')) \n",
    "num2 = int(input('Enter your num2: '))\n",
    "\n",
    "print(num1>num2)"
   ]
  },
  {
   "cell_type": "code",
   "execution_count": 29,
   "id": "8e50e161-e44c-48a5-959d-97c8bce9f25e",
   "metadata": {},
   "outputs": [
    {
     "name": "stdin",
     "output_type": "stream",
     "text": [
      "Enter your num1:  15\n",
      "Enter your num2:  30\n"
     ]
    },
    {
     "name": "stdout",
     "output_type": "stream",
     "text": [
      "False\n"
     ]
    }
   ],
   "source": [
    "num1 = int(input('Enter your num1: ')) \n",
    "num2 = int(input('Enter your num2: '))\n",
    "\n",
    "print(num1>num2)"
   ]
  },
  {
   "cell_type": "markdown",
   "id": "c9f04ccf-3a1b-4f6b-8355-7f5fb8668bb8",
   "metadata": {},
   "source": [
    "#### Finish ♥♥"
   ]
  }
 ],
 "metadata": {
  "kernelspec": {
   "display_name": "Python 3 (ipykernel)",
   "language": "python",
   "name": "python3"
  },
  "language_info": {
   "codemirror_mode": {
    "name": "ipython",
    "version": 3
   },
   "file_extension": ".py",
   "mimetype": "text/x-python",
   "name": "python",
   "nbconvert_exporter": "python",
   "pygments_lexer": "ipython3",
   "version": "3.13.5"
  }
 },
 "nbformat": 4,
 "nbformat_minor": 5
}
