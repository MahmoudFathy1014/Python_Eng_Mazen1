{
 "cells": [
  {
   "cell_type": "markdown",
   "id": "2187d20f-4a7a-4347-a966-49c16edb41a8",
   "metadata": {},
   "source": [
    "## Python Practice Questions – Task 2"
   ]
  },
  {
   "cell_type": "markdown",
   "id": "8e3ffc26-3542-42f6-bcbd-d05243e0e002",
   "metadata": {},
   "source": [
    "### 1. Create a list of 3 fruits and print it."
   ]
  },
  {
   "cell_type": "code",
   "execution_count": 2,
   "id": "989fc166-68be-4c98-99da-6eb15fed0757",
   "metadata": {},
   "outputs": [
    {
     "name": "stdout",
     "output_type": "stream",
     "text": [
      "['apple', 'banana', 'orange']\n"
     ]
    }
   ],
   "source": [
    "fruits = ['apple', 'banana', 'orange'] \n",
    "print(fruits)"
   ]
  },
  {
   "cell_type": "markdown",
   "id": "4dff29af-1392-4236-823e-ba234f0befc4",
   "metadata": {},
   "source": [
    "### 2. Create a tuple with 3 numbers and print the second one."
   ]
  },
  {
   "cell_type": "code",
   "execution_count": 10,
   "id": "33dd9831-bff4-4585-ad44-10470b3c67a4",
   "metadata": {},
   "outputs": [
    {
     "name": "stdout",
     "output_type": "stream",
     "text": [
      "14\n"
     ]
    }
   ],
   "source": [
    "numbers = (10,14,19)\n",
    "print(numbers [1])"
   ]
  },
  {
   "cell_type": "code",
   "execution_count": 13,
   "id": "f02c9fbc-bcd2-47a2-a5aa-7f0fd2bb4245",
   "metadata": {},
   "outputs": [
    {
     "name": "stdout",
     "output_type": "stream",
     "text": [
      "14\n"
     ]
    }
   ],
   "source": [
    "numbers = (10,14,19)\n",
    "print(numbers [-2])"
   ]
  },
  {
   "cell_type": "markdown",
   "id": "7627fe5e-46ba-4918-9919-d7a5a55bb5f8",
   "metadata": {},
   "source": [
    "### 3. Create a set with 3 different colors and print it."
   ]
  },
  {
   "cell_type": "code",
   "execution_count": 12,
   "id": "0abc09e6-0aae-4899-848c-e76b89add6dc",
   "metadata": {},
   "outputs": [
    {
     "name": "stdout",
     "output_type": "stream",
     "text": [
      "{'red', 'White', 'black'}\n"
     ]
    }
   ],
   "source": [
    "colors = {'White', 'red', 'black', 'White'}\n",
    "print(colors)"
   ]
  },
  {
   "cell_type": "markdown",
   "id": "4e551b05-88cf-4f7d-8c8f-bf67cdc45dbe",
   "metadata": {},
   "source": [
    "### 4. Create a list of integers from 1 to 10 and slice it to get only even numbers."
   ]
  },
  {
   "cell_type": "code",
   "execution_count": 5,
   "id": "b7d1e9a2-9b81-418a-b24d-e589f47ef8e6",
   "metadata": {},
   "outputs": [
    {
     "name": "stdout",
     "output_type": "stream",
     "text": [
      "[2, 4, 6, 8, 10]\n"
     ]
    }
   ],
   "source": [
    "even_numbers = list(range(2, 11, 2))\n",
    "print(even_numbers)"
   ]
  },
  {
   "cell_type": "markdown",
   "id": "40ba6133-e6fc-4126-9e6a-96097c158872",
   "metadata": {},
   "source": [
    "### 5. Modify the second element of a list to a new value and print the updated list."
   ]
  },
  {
   "cell_type": "code",
   "execution_count": 6,
   "id": "cc8a824f-bd34-4ac8-b037-c2e92393116d",
   "metadata": {},
   "outputs": [
    {
     "name": "stdout",
     "output_type": "stream",
     "text": [
      "['ahmed', '30 years']\n"
     ]
    }
   ],
   "source": [
    "card = ['ahmed', '25 years']\n",
    "card[1] = '30 years'  \n",
    "print(card)"
   ]
  },
  {
   "cell_type": "markdown",
   "id": "b6cd1a1c-21ab-48e4-b4ce-fa5920b600f6",
   "metadata": {},
   "source": [
    "### 6. Add a new value to a set and print the set."
   ]
  },
  {
   "cell_type": "code",
   "execution_count": 7,
   "id": "05e88e06-af06-4e23-a7d0-646dd3914a23",
   "metadata": {},
   "outputs": [
    {
     "name": "stdout",
     "output_type": "stream",
     "text": [
      "{'blue', 'white', 'red', 'black'}\n"
     ]
    }
   ],
   "source": [
    "colors = {'white', 'black', 'red'}\n",
    "colors.add('blue')\n",
    "print(colors)"
   ]
  },
  {
   "cell_type": "markdown",
   "id": "c25130f0-75e8-4258-a94d-048db9e494ae",
   "metadata": {},
   "source": [
    "### 7. Delete an element from a list and print the list."
   ]
  },
  {
   "cell_type": "code",
   "execution_count": 12,
   "id": "6b5ffc6e-ce29-4ba6-a458-547dabfb9734",
   "metadata": {},
   "outputs": [
    {
     "name": "stdout",
     "output_type": "stream",
     "text": [
      "{'white', 'red', 'black'}\n"
     ]
    }
   ],
   "source": [
    "colors = {'blue', 'white', 'red', 'black'}\n",
    "colors.remove('blue')\n",
    "print(colors)"
   ]
  },
  {
   "cell_type": "markdown",
   "id": "f42c5bfb-4809-4a7e-a642-a8b7d98eea31",
   "metadata": {},
   "source": [
    "### 8-Write a Python program to check if the number entered by the user is greater than 10 using an if condition."
   ]
  },
  {
   "cell_type": "code",
   "execution_count": 1,
   "id": "e69c752b-ef27-4ff3-9d47-f4b17e7d23db",
   "metadata": {},
   "outputs": [
    {
     "name": "stdin",
     "output_type": "stream",
     "text": [
      "Enter a number:  15\n"
     ]
    },
    {
     "name": "stdout",
     "output_type": "stream",
     "text": [
      "The number is greater than 10.\n"
     ]
    }
   ],
   "source": [
    "number = int(input('Enter a number: '))\n",
    "if number > 10:\n",
    "    print('The number is greater than 10.')\n",
    "else:\n",
    "    print('The number is smaller than or equal to 10.')"
   ]
  },
  {
   "cell_type": "code",
   "execution_count": 2,
   "id": "95e2891c-31ad-4a44-9c2c-84ddd8d26e5f",
   "metadata": {},
   "outputs": [
    {
     "name": "stdin",
     "output_type": "stream",
     "text": [
      "Enter a number:  5\n"
     ]
    },
    {
     "name": "stdout",
     "output_type": "stream",
     "text": [
      "The number is smaller than or equal to 10.\n"
     ]
    }
   ],
   "source": [
    "number = int(input('Enter a number: '))\n",
    "if number > 10:\n",
    "    print('The number is greater than 10.')\n",
    "else:\n",
    "    print('The number is smaller than or equal to 10.')"
   ]
  },
  {
   "cell_type": "markdown",
   "id": "674ed226-8b65-402e-bbe5-091e33f9ab28",
   "metadata": {},
   "source": [
    "### 9. Write an if...elif...else statement that checks a (zero) entered and prints whether it is positive, negative, or zero."
   ]
  },
  {
   "cell_type": "code",
   "execution_count": 3,
   "id": "d80a30c9-0025-4d83-9d9e-c8a9143b2184",
   "metadata": {},
   "outputs": [
    {
     "name": "stdin",
     "output_type": "stream",
     "text": [
      "Enter a number:  10\n"
     ]
    },
    {
     "name": "stdout",
     "output_type": "stream",
     "text": [
      "positive\n"
     ]
    }
   ],
   "source": [
    "number = int(input('Enter a number: '))\n",
    "\n",
    "if number > 0:\n",
    "    print('positive')\n",
    "elif number < 0:\n",
    "    print('negative')\n",
    "else:\n",
    "    print('zero')"
   ]
  },
  {
   "cell_type": "code",
   "execution_count": 4,
   "id": "656e28e2-4fff-424b-8113-744b2fa95390",
   "metadata": {},
   "outputs": [
    {
     "name": "stdin",
     "output_type": "stream",
     "text": [
      "Enter a number:  -5\n"
     ]
    },
    {
     "name": "stdout",
     "output_type": "stream",
     "text": [
      "negative\n"
     ]
    }
   ],
   "source": [
    "number = int(input('Enter a number: '))\n",
    "\n",
    "if number > 0:\n",
    "    print('positive')\n",
    "elif number < 0:\n",
    "    print('negative')\n",
    "else:\n",
    "    print('zero')"
   ]
  },
  {
   "cell_type": "code",
   "execution_count": 5,
   "id": "7b143278-5f2b-4252-b0e0-a4db0cc1cff8",
   "metadata": {},
   "outputs": [
    {
     "name": "stdin",
     "output_type": "stream",
     "text": [
      "Enter a number:  0\n"
     ]
    },
    {
     "name": "stdout",
     "output_type": "stream",
     "text": [
      "zero\n"
     ]
    }
   ],
   "source": [
    "number = int(input('Enter a number: '))\n",
    "\n",
    "if number > 0:\n",
    "    print('positive')\n",
    "elif number < 0:\n",
    "    print('negative')\n",
    "else:\n",
    "    print('zero')"
   ]
  }
 ],
 "metadata": {
  "kernelspec": {
   "display_name": "Python 3 (ipykernel)",
   "language": "python",
   "name": "python3"
  },
  "language_info": {
   "codemirror_mode": {
    "name": "ipython",
    "version": 3
   },
   "file_extension": ".py",
   "mimetype": "text/x-python",
   "name": "python",
   "nbconvert_exporter": "python",
   "pygments_lexer": "ipython3",
   "version": "3.13.5"
  }
 },
 "nbformat": 4,
 "nbformat_minor": 5
}
